{
 "cells": [
  {
   "cell_type": "code",
   "execution_count": 235,
   "metadata": {},
   "outputs": [],
   "source": [
    "# Se importan librerias\n",
    "import pandas as pd\n",
    "import json\n",
    "import numpy as np"
   ]
  },
  {
   "cell_type": "code",
   "execution_count": 236,
   "metadata": {},
   "outputs": [],
   "source": [
    "# Ruta al archivo JSON\n",
    "ruta_json = 'C:/Users/Mauro/Desktop/HENRY/Proyecto_individual/PI_1_MLOps/PI_MLOps-STEAM/steam_games.json/output_steam_games.json'\n",
    "\n",
    "# Leer el archivo JSON y cargar los datos en una lista de diccionarios\n",
    "data = []\n",
    "with open(ruta_json, 'r', encoding='utf-8') as file:\n",
    "    for line in file:\n",
    "        try:\n",
    "            record = json.loads(line)\n",
    "            data.append(record)\n",
    "        except json.JSONDecodeError:\n",
    "            # Manejar líneas no válidas según tu necesidad\n",
    "            pass\n",
    "\n",
    "# Crear un DataFrame a partir de la lista de diccionarios\n",
    "df_steam_games = pd.DataFrame(data)\n",
    "\n",
    "# Reemplazar NaN con None (opcional)\n",
    "df_steam_games = df_steam_games.where(pd.notna(df_steam_games), None)\n",
    "\n",
    "# Guardar el DataFrame como un archivo CSV\n",
    "df_steam_games.to_csv('output_steam_games.csv', index=False)"
   ]
  },
  {
   "cell_type": "code",
   "execution_count": 237,
   "metadata": {},
   "outputs": [],
   "source": [
    "# Se importa el dataset a analizar (previamente transformado)\n",
    "#df_steam_games = pd.read_csv('output_steam_games.csv')"
   ]
  },
  {
   "cell_type": "code",
   "execution_count": 238,
   "metadata": {},
   "outputs": [],
   "source": [
    "df_steam_games = df_steam_games.drop(['tags', 'specs', 'url', 'reviews_url'], axis=1)"
   ]
  },
  {
   "cell_type": "code",
   "execution_count": 239,
   "metadata": {},
   "outputs": [],
   "source": [
    "# Dividir las cadenas de géneros en listas de géneros\n",
    "#df_steam_games[\"genres\"] = df_steam_games[\"genres\"].str.split(\",\")\n",
    "\n",
    "# Usar explode para descomponer la columna 'genres'\n",
    "df_steam_games = df_steam_games.explode('genres')\n",
    "\n",
    "# Eliminar filas con valores nulos en la columna 'genres'\n",
    "df_steam_games = df_steam_games.dropna(subset=['genres'])\n",
    "\n",
    "# Reemplazar los valores nulos (NaN) en la columna \"genres\" con listas vacías\n",
    "#df_steam_games[\"genres\"] = df_steam_games[\"genres\"].apply(lambda x: [] if isinstance(x, float) else [genre.strip() for genre in x])\n"
   ]
  },
  {
   "cell_type": "code",
   "execution_count": 240,
   "metadata": {},
   "outputs": [
    {
     "data": {
      "text/html": [
       "<div>\n",
       "<style scoped>\n",
       "    .dataframe tbody tr th:only-of-type {\n",
       "        vertical-align: middle;\n",
       "    }\n",
       "\n",
       "    .dataframe tbody tr th {\n",
       "        vertical-align: top;\n",
       "    }\n",
       "\n",
       "    .dataframe thead th {\n",
       "        text-align: right;\n",
       "    }\n",
       "</style>\n",
       "<table border=\"1\" class=\"dataframe\">\n",
       "  <thead>\n",
       "    <tr style=\"text-align: right;\">\n",
       "      <th></th>\n",
       "      <th>publisher</th>\n",
       "      <th>genres</th>\n",
       "      <th>app_name</th>\n",
       "      <th>title</th>\n",
       "      <th>release_date</th>\n",
       "      <th>price</th>\n",
       "      <th>early_access</th>\n",
       "      <th>id</th>\n",
       "      <th>developer</th>\n",
       "    </tr>\n",
       "  </thead>\n",
       "  <tbody>\n",
       "    <tr>\n",
       "      <th>88310</th>\n",
       "      <td>Kotoshiro</td>\n",
       "      <td>Action</td>\n",
       "      <td>Lost Summoner Kitty</td>\n",
       "      <td>Lost Summoner Kitty</td>\n",
       "      <td>2018-01-04</td>\n",
       "      <td>4.99</td>\n",
       "      <td>False</td>\n",
       "      <td>761140</td>\n",
       "      <td>Kotoshiro</td>\n",
       "    </tr>\n",
       "    <tr>\n",
       "      <th>88310</th>\n",
       "      <td>Kotoshiro</td>\n",
       "      <td>Casual</td>\n",
       "      <td>Lost Summoner Kitty</td>\n",
       "      <td>Lost Summoner Kitty</td>\n",
       "      <td>2018-01-04</td>\n",
       "      <td>4.99</td>\n",
       "      <td>False</td>\n",
       "      <td>761140</td>\n",
       "      <td>Kotoshiro</td>\n",
       "    </tr>\n",
       "    <tr>\n",
       "      <th>88310</th>\n",
       "      <td>Kotoshiro</td>\n",
       "      <td>Indie</td>\n",
       "      <td>Lost Summoner Kitty</td>\n",
       "      <td>Lost Summoner Kitty</td>\n",
       "      <td>2018-01-04</td>\n",
       "      <td>4.99</td>\n",
       "      <td>False</td>\n",
       "      <td>761140</td>\n",
       "      <td>Kotoshiro</td>\n",
       "    </tr>\n",
       "    <tr>\n",
       "      <th>88310</th>\n",
       "      <td>Kotoshiro</td>\n",
       "      <td>Simulation</td>\n",
       "      <td>Lost Summoner Kitty</td>\n",
       "      <td>Lost Summoner Kitty</td>\n",
       "      <td>2018-01-04</td>\n",
       "      <td>4.99</td>\n",
       "      <td>False</td>\n",
       "      <td>761140</td>\n",
       "      <td>Kotoshiro</td>\n",
       "    </tr>\n",
       "    <tr>\n",
       "      <th>88310</th>\n",
       "      <td>Kotoshiro</td>\n",
       "      <td>Strategy</td>\n",
       "      <td>Lost Summoner Kitty</td>\n",
       "      <td>Lost Summoner Kitty</td>\n",
       "      <td>2018-01-04</td>\n",
       "      <td>4.99</td>\n",
       "      <td>False</td>\n",
       "      <td>761140</td>\n",
       "      <td>Kotoshiro</td>\n",
       "    </tr>\n",
       "  </tbody>\n",
       "</table>\n",
       "</div>"
      ],
      "text/plain": [
       "       publisher      genres             app_name                title  \\\n",
       "88310  Kotoshiro      Action  Lost Summoner Kitty  Lost Summoner Kitty   \n",
       "88310  Kotoshiro      Casual  Lost Summoner Kitty  Lost Summoner Kitty   \n",
       "88310  Kotoshiro       Indie  Lost Summoner Kitty  Lost Summoner Kitty   \n",
       "88310  Kotoshiro  Simulation  Lost Summoner Kitty  Lost Summoner Kitty   \n",
       "88310  Kotoshiro    Strategy  Lost Summoner Kitty  Lost Summoner Kitty   \n",
       "\n",
       "      release_date price early_access      id  developer  \n",
       "88310   2018-01-04  4.99        False  761140  Kotoshiro  \n",
       "88310   2018-01-04  4.99        False  761140  Kotoshiro  \n",
       "88310   2018-01-04  4.99        False  761140  Kotoshiro  \n",
       "88310   2018-01-04  4.99        False  761140  Kotoshiro  \n",
       "88310   2018-01-04  4.99        False  761140  Kotoshiro  "
      ]
     },
     "execution_count": 240,
     "metadata": {},
     "output_type": "execute_result"
    }
   ],
   "source": [
    "df_steam_games.head(5)"
   ]
  },
  {
   "cell_type": "code",
   "execution_count": 241,
   "metadata": {},
   "outputs": [],
   "source": [
    "#Transformar las columnas \"publisher\", \"app_name\", \"title\", \"url\", \"reviews_url\" y \"developer\" en datos de tipo cadena (string)\n",
    "columns_to_string = [\"publisher\", \"app_name\", \"title\", \"developer\"]\n",
    "\n",
    "# Convierte las columnas especificadas a tipo string\n",
    "df_steam_games[columns_to_string] = df_steam_games[columns_to_string].astype(str)\n"
   ]
  },
  {
   "cell_type": "code",
   "execution_count": 242,
   "metadata": {},
   "outputs": [
    {
     "name": "stdout",
     "output_type": "stream",
     "text": [
      "<class 'pandas.core.frame.DataFrame'>\n",
      "Index: 71554 entries, 88310 to 120443\n",
      "Data columns (total 9 columns):\n",
      " #   Column        Non-Null Count  Dtype \n",
      "---  ------        --------------  ----- \n",
      " 0   publisher     71554 non-null  object\n",
      " 1   genres        71554 non-null  object\n",
      " 2   app_name      71554 non-null  object\n",
      " 3   title         71554 non-null  object\n",
      " 4   release_date  71501 non-null  object\n",
      " 5   price         68355 non-null  object\n",
      " 6   early_access  71554 non-null  object\n",
      " 7   id            71552 non-null  object\n",
      " 8   developer     71554 non-null  object\n",
      "dtypes: object(9)\n",
      "memory usage: 5.5+ MB\n"
     ]
    }
   ],
   "source": [
    "# Manejo de Datos Nulos: Eliminar filas que contienen todos los casilleros vacíos (NaN)\n",
    "df_steam_games = df_steam_games.dropna(how='all')\n",
    "df_steam_games.info()\n"
   ]
  },
  {
   "cell_type": "code",
   "execution_count": 243,
   "metadata": {},
   "outputs": [],
   "source": [
    "# Convierte la columna \"release_date\" a tipo datetime. Y convierte los valores no válidos en NaT (Not a Timestamp), que es una representación de valor nulo en datetime.\n",
    "#df_steam_games[\"release_date\"] = pd.to_datetime(df_steam_games[\"release_date\"], errors=\"coerce\")\n"
   ]
  },
  {
   "cell_type": "code",
   "execution_count": 244,
   "metadata": {},
   "outputs": [],
   "source": [
    "# Convertir la columna 'release_date' al tipo datetime\n",
    "#df_steam_games['release_date'] = pd.to_datetime(df_steam_games['release_date'], errors='coerce')\n",
    "\n",
    "# Extraer el año y crear la columna 'release_year', asignando -1 a los valores no válidos\n",
    "#df_steam_games['release_year'] = df_steam_games['release_date'].dt.year.fillna(-1).astype(int)\n",
    "\n",
    "# Reemplazar los valores -1 por \"Dato no disponible\" en la columna 'release_year'\n",
    "#df_steam_games['release_year'] = df_steam_games['release_year'].replace(-1, \"Dato no disponible\")"
   ]
  },
  {
   "cell_type": "code",
   "execution_count": 245,
   "metadata": {},
   "outputs": [],
   "source": [
    "# Convertir la columna 'release_date' al tipo datetime y extraer el año\n",
    "df_steam_games['release_date'] = pd.to_datetime(df_steam_games['release_date'], errors='coerce')\n",
    "df_steam_games['release_year'] = df_steam_games['release_date'].dt.year\n",
    "\n",
    "# Eliminar las filas donde el 'release_year' es NaN (no válido)\n",
    "df_steam_games.dropna(subset=['release_year'], inplace=True)"
   ]
  },
  {
   "cell_type": "code",
   "execution_count": 246,
   "metadata": {},
   "outputs": [],
   "source": [
    "# Reemplazar \"Dato no disponible\" con NaN\n",
    "df_steam_games['release_year'] = pd.to_numeric(df_steam_games['release_year'], errors='coerce')\n",
    "\n",
    "# Convertir la columna 'release_year' a tipo entero\n",
    "df_steam_games['release_year'] = df_steam_games['release_year'].astype('Int64')  # 'Int64' para aceptar NaN"
   ]
  },
  {
   "cell_type": "code",
   "execution_count": 247,
   "metadata": {},
   "outputs": [],
   "source": [
    "df_steam_games = df_steam_games.drop(['release_date'], axis=1)"
   ]
  },
  {
   "cell_type": "code",
   "execution_count": 248,
   "metadata": {},
   "outputs": [],
   "source": [
    "# Dividir las cadenas de géneros en listas de géneros\n",
    "#df_steam_games[\"tags\"] = df_steam_games[\"tags\"].str.split(\",\")\n",
    "\n",
    "# Reemplazar los valores nulos (NaN) en la columna \"genres\" con listas vacías\n",
    "#df_steam_games[\"tags\"] = df_steam_games[\"tags\"].apply(lambda x: [] if isinstance(x, float) else [genre.strip() for genre in x])\n"
   ]
  },
  {
   "cell_type": "code",
   "execution_count": 249,
   "metadata": {},
   "outputs": [],
   "source": [
    "#Transformar la columna \"specs\" en una lista de especificaciones técnicas del juego\n",
    "# Define una función para manejar los elementos en la columna \"specs\"\n",
    "#def process_specs(x):\n",
    "#    if isinstance(x, list):\n",
    "#        return [spec.strip() for spec in x]\n",
    "#    elif pd.isna(x):\n",
    "#        return []\n",
    "#    else:\n",
    "#        return [spec.strip() for spec in x.split(\",\")]\n",
    "\n",
    "# Aplica la función para procesar la columna \"specs\"\n",
    "#df_steam_games[\"specs\"] = df_steam_games[\"specs\"].apply(process_specs)"
   ]
  },
  {
   "cell_type": "code",
   "execution_count": 250,
   "metadata": {},
   "outputs": [],
   "source": [
    "# Convierte la columna \"price\" a tipo float para representar el precio con decimales y los valores no válidos a NaN.\n",
    "df_steam_games[\"price\"] = pd.to_numeric(df_steam_games[\"price\"], errors=\"coerce\")\n"
   ]
  },
  {
   "cell_type": "code",
   "execution_count": 251,
   "metadata": {},
   "outputs": [],
   "source": [
    "# Convierte la columna \"early_access\" a tipo bool\n",
    "df_steam_games[\"early_access\"] = df_steam_games[\"early_access\"].astype(bool)\n"
   ]
  },
  {
   "cell_type": "code",
   "execution_count": 252,
   "metadata": {},
   "outputs": [],
   "source": [
    "# Convierte la columna \"id\" a tipo int, tratando los valores no válidos como NaN\n",
    "df_steam_games[\"id\"] = pd.to_numeric(df_steam_games[\"id\"], errors=\"coerce\", downcast=\"integer\")\n",
    "\n"
   ]
  },
  {
   "cell_type": "code",
   "execution_count": 253,
   "metadata": {},
   "outputs": [
    {
     "name": "stdout",
     "output_type": "stream",
     "text": [
      "<class 'pandas.core.frame.DataFrame'>\n",
      "Index: 70704 entries, 88310 to 120443\n",
      "Data columns (total 9 columns):\n",
      " #   Column        Non-Null Count  Dtype  \n",
      "---  ------        --------------  -----  \n",
      " 0   publisher     70704 non-null  object \n",
      " 1   genres        70704 non-null  object \n",
      " 2   app_name      70704 non-null  object \n",
      " 3   title         70704 non-null  object \n",
      " 4   price         63523 non-null  float64\n",
      " 5   early_access  70704 non-null  bool   \n",
      " 6   id            70702 non-null  float64\n",
      " 7   developer     70704 non-null  object \n",
      " 8   release_year  70704 non-null  Int64  \n",
      "dtypes: Int64(1), bool(1), float64(2), object(5)\n",
      "memory usage: 5.0+ MB\n"
     ]
    }
   ],
   "source": [
    "df_steam_games.info()"
   ]
  },
  {
   "cell_type": "code",
   "execution_count": 254,
   "metadata": {},
   "outputs": [],
   "source": [
    "# Guardar el DataFrame transformado como un archivo CSV\n",
    "df_steam_games.to_csv('output_steam_games_trans.csv', index=False)"
   ]
  },
  {
   "cell_type": "code",
   "execution_count": 255,
   "metadata": {},
   "outputs": [
    {
     "data": {
      "text/html": [
       "<div>\n",
       "<style scoped>\n",
       "    .dataframe tbody tr th:only-of-type {\n",
       "        vertical-align: middle;\n",
       "    }\n",
       "\n",
       "    .dataframe tbody tr th {\n",
       "        vertical-align: top;\n",
       "    }\n",
       "\n",
       "    .dataframe thead th {\n",
       "        text-align: right;\n",
       "    }\n",
       "</style>\n",
       "<table border=\"1\" class=\"dataframe\">\n",
       "  <thead>\n",
       "    <tr style=\"text-align: right;\">\n",
       "      <th></th>\n",
       "      <th>publisher</th>\n",
       "      <th>genres</th>\n",
       "      <th>app_name</th>\n",
       "      <th>title</th>\n",
       "      <th>price</th>\n",
       "      <th>early_access</th>\n",
       "      <th>id</th>\n",
       "      <th>developer</th>\n",
       "      <th>release_year</th>\n",
       "    </tr>\n",
       "  </thead>\n",
       "  <tbody>\n",
       "    <tr>\n",
       "      <th>88310</th>\n",
       "      <td>Kotoshiro</td>\n",
       "      <td>Action</td>\n",
       "      <td>Lost Summoner Kitty</td>\n",
       "      <td>Lost Summoner Kitty</td>\n",
       "      <td>4.99</td>\n",
       "      <td>False</td>\n",
       "      <td>761140.0</td>\n",
       "      <td>Kotoshiro</td>\n",
       "      <td>2018</td>\n",
       "    </tr>\n",
       "    <tr>\n",
       "      <th>88310</th>\n",
       "      <td>Kotoshiro</td>\n",
       "      <td>Casual</td>\n",
       "      <td>Lost Summoner Kitty</td>\n",
       "      <td>Lost Summoner Kitty</td>\n",
       "      <td>4.99</td>\n",
       "      <td>False</td>\n",
       "      <td>761140.0</td>\n",
       "      <td>Kotoshiro</td>\n",
       "      <td>2018</td>\n",
       "    </tr>\n",
       "    <tr>\n",
       "      <th>88310</th>\n",
       "      <td>Kotoshiro</td>\n",
       "      <td>Indie</td>\n",
       "      <td>Lost Summoner Kitty</td>\n",
       "      <td>Lost Summoner Kitty</td>\n",
       "      <td>4.99</td>\n",
       "      <td>False</td>\n",
       "      <td>761140.0</td>\n",
       "      <td>Kotoshiro</td>\n",
       "      <td>2018</td>\n",
       "    </tr>\n",
       "    <tr>\n",
       "      <th>88310</th>\n",
       "      <td>Kotoshiro</td>\n",
       "      <td>Simulation</td>\n",
       "      <td>Lost Summoner Kitty</td>\n",
       "      <td>Lost Summoner Kitty</td>\n",
       "      <td>4.99</td>\n",
       "      <td>False</td>\n",
       "      <td>761140.0</td>\n",
       "      <td>Kotoshiro</td>\n",
       "      <td>2018</td>\n",
       "    </tr>\n",
       "    <tr>\n",
       "      <th>88310</th>\n",
       "      <td>Kotoshiro</td>\n",
       "      <td>Strategy</td>\n",
       "      <td>Lost Summoner Kitty</td>\n",
       "      <td>Lost Summoner Kitty</td>\n",
       "      <td>4.99</td>\n",
       "      <td>False</td>\n",
       "      <td>761140.0</td>\n",
       "      <td>Kotoshiro</td>\n",
       "      <td>2018</td>\n",
       "    </tr>\n",
       "  </tbody>\n",
       "</table>\n",
       "</div>"
      ],
      "text/plain": [
       "       publisher      genres             app_name                title  price  \\\n",
       "88310  Kotoshiro      Action  Lost Summoner Kitty  Lost Summoner Kitty   4.99   \n",
       "88310  Kotoshiro      Casual  Lost Summoner Kitty  Lost Summoner Kitty   4.99   \n",
       "88310  Kotoshiro       Indie  Lost Summoner Kitty  Lost Summoner Kitty   4.99   \n",
       "88310  Kotoshiro  Simulation  Lost Summoner Kitty  Lost Summoner Kitty   4.99   \n",
       "88310  Kotoshiro    Strategy  Lost Summoner Kitty  Lost Summoner Kitty   4.99   \n",
       "\n",
       "       early_access        id  developer  release_year  \n",
       "88310         False  761140.0  Kotoshiro          2018  \n",
       "88310         False  761140.0  Kotoshiro          2018  \n",
       "88310         False  761140.0  Kotoshiro          2018  \n",
       "88310         False  761140.0  Kotoshiro          2018  \n",
       "88310         False  761140.0  Kotoshiro          2018  "
      ]
     },
     "execution_count": 255,
     "metadata": {},
     "output_type": "execute_result"
    }
   ],
   "source": [
    "df_steam_games.head(5)"
   ]
  },
  {
   "cell_type": "code",
   "execution_count": 256,
   "metadata": {},
   "outputs": [],
   "source": [
    "df_steam_games.to_parquet('output_steam_games_trans.parquet', index=False)"
   ]
  },
  {
   "cell_type": "code",
   "execution_count": 257,
   "metadata": {},
   "outputs": [],
   "source": [
    "# Dividir las listas de géneros en diferentes filas\n",
    "#df_steam_games_exploded = df_steam_games.explode('genres')\n"
   ]
  },
  {
   "cell_type": "code",
   "execution_count": 258,
   "metadata": {},
   "outputs": [
    {
     "data": {
      "text/html": [
       "<div>\n",
       "<style scoped>\n",
       "    .dataframe tbody tr th:only-of-type {\n",
       "        vertical-align: middle;\n",
       "    }\n",
       "\n",
       "    .dataframe tbody tr th {\n",
       "        vertical-align: top;\n",
       "    }\n",
       "\n",
       "    .dataframe thead th {\n",
       "        text-align: right;\n",
       "    }\n",
       "</style>\n",
       "<table border=\"1\" class=\"dataframe\">\n",
       "  <thead>\n",
       "    <tr style=\"text-align: right;\">\n",
       "      <th></th>\n",
       "      <th>publisher</th>\n",
       "      <th>genres</th>\n",
       "      <th>app_name</th>\n",
       "      <th>title</th>\n",
       "      <th>price</th>\n",
       "      <th>early_access</th>\n",
       "      <th>id</th>\n",
       "      <th>developer</th>\n",
       "      <th>release_year</th>\n",
       "    </tr>\n",
       "  </thead>\n",
       "  <tbody>\n",
       "    <tr>\n",
       "      <th>88310</th>\n",
       "      <td>Kotoshiro</td>\n",
       "      <td>Action</td>\n",
       "      <td>Lost Summoner Kitty</td>\n",
       "      <td>Lost Summoner Kitty</td>\n",
       "      <td>4.99</td>\n",
       "      <td>False</td>\n",
       "      <td>761140.0</td>\n",
       "      <td>Kotoshiro</td>\n",
       "      <td>2018</td>\n",
       "    </tr>\n",
       "    <tr>\n",
       "      <th>88310</th>\n",
       "      <td>Kotoshiro</td>\n",
       "      <td>Casual</td>\n",
       "      <td>Lost Summoner Kitty</td>\n",
       "      <td>Lost Summoner Kitty</td>\n",
       "      <td>4.99</td>\n",
       "      <td>False</td>\n",
       "      <td>761140.0</td>\n",
       "      <td>Kotoshiro</td>\n",
       "      <td>2018</td>\n",
       "    </tr>\n",
       "    <tr>\n",
       "      <th>88310</th>\n",
       "      <td>Kotoshiro</td>\n",
       "      <td>Indie</td>\n",
       "      <td>Lost Summoner Kitty</td>\n",
       "      <td>Lost Summoner Kitty</td>\n",
       "      <td>4.99</td>\n",
       "      <td>False</td>\n",
       "      <td>761140.0</td>\n",
       "      <td>Kotoshiro</td>\n",
       "      <td>2018</td>\n",
       "    </tr>\n",
       "    <tr>\n",
       "      <th>88310</th>\n",
       "      <td>Kotoshiro</td>\n",
       "      <td>Simulation</td>\n",
       "      <td>Lost Summoner Kitty</td>\n",
       "      <td>Lost Summoner Kitty</td>\n",
       "      <td>4.99</td>\n",
       "      <td>False</td>\n",
       "      <td>761140.0</td>\n",
       "      <td>Kotoshiro</td>\n",
       "      <td>2018</td>\n",
       "    </tr>\n",
       "    <tr>\n",
       "      <th>88310</th>\n",
       "      <td>Kotoshiro</td>\n",
       "      <td>Strategy</td>\n",
       "      <td>Lost Summoner Kitty</td>\n",
       "      <td>Lost Summoner Kitty</td>\n",
       "      <td>4.99</td>\n",
       "      <td>False</td>\n",
       "      <td>761140.0</td>\n",
       "      <td>Kotoshiro</td>\n",
       "      <td>2018</td>\n",
       "    </tr>\n",
       "  </tbody>\n",
       "</table>\n",
       "</div>"
      ],
      "text/plain": [
       "       publisher      genres             app_name                title  price  \\\n",
       "88310  Kotoshiro      Action  Lost Summoner Kitty  Lost Summoner Kitty   4.99   \n",
       "88310  Kotoshiro      Casual  Lost Summoner Kitty  Lost Summoner Kitty   4.99   \n",
       "88310  Kotoshiro       Indie  Lost Summoner Kitty  Lost Summoner Kitty   4.99   \n",
       "88310  Kotoshiro  Simulation  Lost Summoner Kitty  Lost Summoner Kitty   4.99   \n",
       "88310  Kotoshiro    Strategy  Lost Summoner Kitty  Lost Summoner Kitty   4.99   \n",
       "\n",
       "       early_access        id  developer  release_year  \n",
       "88310         False  761140.0  Kotoshiro          2018  \n",
       "88310         False  761140.0  Kotoshiro          2018  \n",
       "88310         False  761140.0  Kotoshiro          2018  \n",
       "88310         False  761140.0  Kotoshiro          2018  \n",
       "88310         False  761140.0  Kotoshiro          2018  "
      ]
     },
     "execution_count": 258,
     "metadata": {},
     "output_type": "execute_result"
    }
   ],
   "source": [
    "df_steam_games.head(5)"
   ]
  },
  {
   "cell_type": "code",
   "execution_count": 259,
   "metadata": {},
   "outputs": [
    {
     "name": "stdout",
     "output_type": "stream",
     "text": [
      "<class 'pandas.core.frame.DataFrame'>\n",
      "Index: 70704 entries, 88310 to 120443\n",
      "Data columns (total 9 columns):\n",
      " #   Column        Non-Null Count  Dtype  \n",
      "---  ------        --------------  -----  \n",
      " 0   publisher     70704 non-null  object \n",
      " 1   genres        70704 non-null  object \n",
      " 2   app_name      70704 non-null  object \n",
      " 3   title         70704 non-null  object \n",
      " 4   price         63523 non-null  float64\n",
      " 5   early_access  70704 non-null  bool   \n",
      " 6   id            70702 non-null  float64\n",
      " 7   developer     70704 non-null  object \n",
      " 8   release_year  70704 non-null  Int64  \n",
      "dtypes: Int64(1), bool(1), float64(2), object(5)\n",
      "memory usage: 5.0+ MB\n"
     ]
    }
   ],
   "source": [
    "df_steam_games.info()"
   ]
  },
  {
   "cell_type": "code",
   "execution_count": null,
   "metadata": {},
   "outputs": [],
   "source": []
  }
 ],
 "metadata": {
  "kernelspec": {
   "display_name": "Python 3",
   "language": "python",
   "name": "python3"
  },
  "language_info": {
   "codemirror_mode": {
    "name": "ipython",
    "version": 3
   },
   "file_extension": ".py",
   "mimetype": "text/x-python",
   "name": "python",
   "nbconvert_exporter": "python",
   "pygments_lexer": "ipython3",
   "version": "3.11.2"
  }
 },
 "nbformat": 4,
 "nbformat_minor": 2
}
