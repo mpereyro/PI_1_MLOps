{
 "cells": [
  {
   "cell_type": "code",
   "execution_count": 19,
   "metadata": {},
   "outputs": [],
   "source": [
    "import pandas as pd\n",
    "\n",
    "from fastapi import FastAPI\n"
   ]
  },
  {
   "cell_type": "code",
   "execution_count": 20,
   "metadata": {},
   "outputs": [],
   "source": [
    "app = FastAPI()"
   ]
  },
  {
   "cell_type": "code",
   "execution_count": 21,
   "metadata": {},
   "outputs": [],
   "source": [
    "ruta_df_steam_games = 'C:/Users/Mauro/Desktop/HENRY/Proyecto_individual/PI_1_MLOps2/DATOS/output_steam_games_trans.parquet'\n",
    "df_steam_games = pd.read_parquet (ruta_df_steam_games)"
   ]
  },
  {
   "cell_type": "code",
   "execution_count": 22,
   "metadata": {},
   "outputs": [],
   "source": [
    "ruta_df_user_review_sentiment_analysis = 'C:/Users/Mauro/Desktop/HENRY/Proyecto_individual/PI_1_MLOps2/DATOS/australian_user_reviews_sentiment_analysis.parquet'\n",
    "df_user_reviews = pd.read_parquet(ruta_df_user_review_sentiment_analysis)"
   ]
  },
  {
   "cell_type": "code",
   "execution_count": 23,
   "metadata": {},
   "outputs": [],
   "source": [
    "ruta_data_items_resultante = 'C:/Users/Mauro/Desktop/HENRY/Proyecto_individual/PI_1_MLOps2/DATOS/users_items_final.parquet'\n",
    "df_users_items = pd.read_parquet(ruta_data_items_resultante)"
   ]
  },
  {
   "cell_type": "code",
   "execution_count": 24,
   "metadata": {},
   "outputs": [],
   "source": [
    "df_users_items['item_id'] = df_users_items['item_id'].astype(int)\n",
    "df_user_reviews['item_id'] = df_user_reviews['item_id'].astype(int)"
   ]
  },
  {
   "cell_type": "code",
   "execution_count": 25,
   "metadata": {},
   "outputs": [],
   "source": [
    "# Fusionar información de juegos y usuarios basada en el ID del juego y el ID de usuario\n",
    "items_games = pd.merge(df_users_items, df_steam_games, left_on='item_id', right_on='id')"
   ]
  },
  {
   "cell_type": "code",
   "execution_count": 26,
   "metadata": {},
   "outputs": [],
   "source": [
    "reviews_games = pd.merge(df_user_reviews, df_steam_games, how='inner', left_on='item_id', right_on='id')\n"
   ]
  },
  {
   "cell_type": "code",
   "execution_count": 27,
   "metadata": {},
   "outputs": [],
   "source": [
    "def PlayTimeGenre(genero: str) -> dict:\n",
    "    \"\"\"\n",
    "    Devuelve el año con más horas jugadas para el género especificado.\n",
    "\n",
    "    Args:\n",
    "        genero (str): Género del juego\n",
    "    Returns:\n",
    "        dict: Diccionario con el género y el año de lanzamiento con más horas jugadas\n",
    "    \"\"\"\n",
    "    # Filtrar por género\n",
    "    df_util = items_games[items_games['genres'] == genero]\n",
    "\n",
    "    # Agrupar por el año de lanzamiento y sumar las horas jugadas\n",
    "    agrupado = df_util.groupby('release_year')['playtime_forever'].sum().sort_values(ascending=False)\n",
    "\n",
    "    # Obtener el año con más horas jugadas\n",
    "    anio = agrupado.index[0]\n",
    "\n",
    "    return {f'Año de lanzamiento con más horas jugadas para el género {genero}': int(anio)}\n",
    "\n"
   ]
  },
  {
   "cell_type": "code",
   "execution_count": 29,
   "metadata": {},
   "outputs": [],
   "source": [
    "def UserForGenre(genero: str) -> dict:\n",
    "    \"\"\"\n",
    "    Devuelve el usuario que acumula más horas jugadas para el género dado\n",
    "    y una lista de la acumulación de horas jugadas por año.\n",
    "\n",
    "    Args:\n",
    "        genero (str): Género del juego\n",
    "    Returns:\n",
    "        dict: Diccionario con el usuario y la lista de horas jugadas por año\n",
    "    \"\"\"\n",
    "    # Filtrar por género\n",
    "    df_util = items_games[items_games['genres'] == genero]\n",
    "\n",
    "    # Agrupar por usuario y año, sumando las horas jugadas\n",
    "    group = df_util.groupby(['user_id', 'release_year'])['playtime_forever'].sum().reset_index()\n",
    "\n",
    "    # Encontrar el usuario con más horas jugadas\n",
    "    user_max_playtime = group.groupby('user_id')['playtime_forever'].sum().idxmax()\n",
    "    user_max_hours = group.loc[group['user_id'] == user_max_playtime]\n",
    "\n",
    "    # Filtrar los años con horas acumuladas mayores a 0\n",
    "    filtered_hours_per_year = user_max_hours.set_index('release_year')['playtime_forever'].to_dict()\n",
    "    filtered_hours_per_year = {year: hours for year, hours in filtered_hours_per_year.items() if hours > 0}\n",
    "\n",
    "    return {\n",
    "        'Usuario con más horas jugadas para el género': str(user_max_playtime),\n",
    "        'Acumulación de horas jugadas por año (mayores a 0)': filtered_hours_per_year\n",
    "    }\n"
   ]
  },
  {
   "cell_type": "code",
   "execution_count": 31,
   "metadata": {},
   "outputs": [],
   "source": [
    "def UsersRecommend(año: int) -> dict:\n",
    "    # Filtrar los juegos para el año especificado\n",
    "    juegos_año = reviews_games[reviews_games['release_year'] == año]\n",
    "\n",
    "    # Filtrar los juegos más recomendados con comentarios positivos o neutrales\n",
    "    juegos_recomendados = juegos_año[\n",
    "        (juegos_año['recommend'] == True) & \n",
    "        (juegos_año['sentiment_analysis'].isin(['Positive', 'Neutral']))\n",
    "    ]\n",
    "\n",
    "    # Obtener el top 3 de juegos más recomendados\n",
    "    top_3_juegos = juegos_recomendados.nlargest(3, 'sentiment_analysis')\n",
    "\n",
    "    # Crear un diccionario con los top 3 juegos recomendados\n",
    "    top_juegos_dict = {\n",
    "        f\"Top {i+1} Juego Recomendado\": top_3_juegos.iloc[i]['title'] for i in range(3)\n",
    "    }\n",
    "\n",
    "    return top_juegos_dict\n",
    "\n"
   ]
  },
  {
   "cell_type": "code",
   "execution_count": null,
   "metadata": {},
   "outputs": [],
   "source": []
  },
  {
   "cell_type": "code",
   "execution_count": null,
   "metadata": {},
   "outputs": [],
   "source": []
  }
 ],
 "metadata": {
  "kernelspec": {
   "display_name": "Python 3",
   "language": "python",
   "name": "python3"
  },
  "language_info": {
   "codemirror_mode": {
    "name": "ipython",
    "version": 3
   },
   "file_extension": ".py",
   "mimetype": "text/x-python",
   "name": "python",
   "nbconvert_exporter": "python",
   "pygments_lexer": "ipython3",
   "version": "3.11.2"
  }
 },
 "nbformat": 4,
 "nbformat_minor": 2
}
